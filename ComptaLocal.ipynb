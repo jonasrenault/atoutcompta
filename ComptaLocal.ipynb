{
 "cells": [
  {
   "cell_type": "markdown",
   "id": "d9ce86dd-baac-4dea-8c78-c827f7bb89f7",
   "metadata": {},
   "source": [
    "# Calculateur d'écriture pour Atoutprises"
   ]
  },
  {
   "cell_type": "markdown",
   "id": "2a929414-55d8-45ea-bb21-9b4d19b52c0b",
   "metadata": {},
   "source": [
    "Lancer l'exécution des cellules en cliquant sur `Tout exécuter` depuis le menu `Exécution`, ou bien en lançant chaque cellule individuellement."
   ]
  },
  {
   "cell_type": "markdown",
   "id": "f65d57d6-c22d-4443-adad-53367786d9a7",
   "metadata": {},
   "source": [
    "### Recherche des fichiers PDF dans le dossier local"
   ]
  },
  {
   "cell_type": "code",
   "execution_count": 10,
   "id": "c4b602cb-35ff-4a7f-b11a-5ddadec87f3b",
   "metadata": {},
   "outputs": [
    {
     "name": "stdout",
     "output_type": "stream",
     "text": [
      "Found files ['0723 DEPENSES.Zeendoc.pdf']\n"
     ]
    }
   ],
   "source": [
    "import glob\n",
    "\n",
    "files = glob.glob('*.pdf')\n",
    "\n",
    "print('Found files', files)"
   ]
  },
  {
   "cell_type": "markdown",
   "id": "36622ced-2571-4c21-a41a-f68f37f6fda2",
   "metadata": {},
   "source": [
    "### Code\n",
    "\n",
    "Les fonctions suivantes permettent de lire les informations contenues dans le fichier `Etat simplifié des dépenses salariales`"
   ]
  },
  {
   "cell_type": "code",
   "execution_count": 11,
   "id": "0eacd3a6-e56c-4ca1-b2f0-d908ae9494ab",
   "metadata": {},
   "outputs": [],
   "source": [
    "import re\n",
    "import camelot\n",
    "import pandas as pd\n",
    "from tabulate import tabulate\n",
    "from PyPDF2 import PdfReader"
   ]
  },
  {
   "cell_type": "code",
   "execution_count": 12,
   "id": "8275499c-a569-4366-8cf8-dc0e642a7ec8",
   "metadata": {},
   "outputs": [],
   "source": [
    "def read_month(filename: str) -> str:\n",
    "    \"\"\"\n",
    "    Fonction pour extraire le mois à partir d'un fichier PDF.\n",
    "\n",
    "    Parameters\n",
    "    ----------\n",
    "    filename : str\n",
    "        le nom du fichier\n",
    "\n",
    "    Returns\n",
    "    -------\n",
    "    str\n",
    "        le mois\n",
    "    \"\"\"\n",
    "    reader = PdfReader(filename)\n",
    "    text = reader.pages[0].extract_text()\n",
    "    res = re.search(\n",
    "        r\"Etat simplifié des dépenses salariales : ([a-zA-Z]+) 202[0-9]\", text\n",
    "    )\n",
    "    if res:\n",
    "        return res.group(1)\n",
    "    return \"\""
   ]
  },
  {
   "cell_type": "code",
   "execution_count": 13,
   "id": "d4a41bcf-a205-47b9-a70e-b6843fb2d2e1",
   "metadata": {},
   "outputs": [],
   "source": [
    "def read_table(filename: str) -> pd.DataFrame:\n",
    "    \"\"\"\n",
    "    Fonction pour lire les tableaux dans un fichier PDF.\n",
    "\n",
    "    Parameters\n",
    "    ----------\n",
    "    filename : str\n",
    "        le nom du fichier\n",
    "\n",
    "    Returns\n",
    "    -------\n",
    "    pd.DataFrame\n",
    "        le tableau contenant les informations de comptabilité\n",
    "    \"\"\"\n",
    "    tables = camelot.read_pdf(filename)\n",
    "    df = tables[0].df\n",
    "    if len(tables) == 2:\n",
    "        df1 = tables[1].df\n",
    "        df1.index = (0, 2, 3, 4)\n",
    "        df1.loc[1] = [None] * df1.shape[1]\n",
    "        df1 = df1.sort_index()\n",
    "        df = pd.concat((df1, df), axis=1)\n",
    "    else:\n",
    "        df = df.drop(0).reset_index(drop=True)\n",
    "\n",
    "    assert df.iat[2, 0].startswith(\n",
    "        \"CEINTRE Arnaud\"\n",
    "    ), \"First row should be CEINTRE Arnaud\"\n",
    "    assert df.iat[3, 0].startswith(\n",
    "        \"ECHIFFRE Adrien\"\n",
    "    ), \"Second row should be ECHIFFRE Adrien\"\n",
    "    assert df.shape == (5, 22), \"Table should be 5x22\"\n",
    "\n",
    "    return df"
   ]
  },
  {
   "cell_type": "code",
   "execution_count": 14,
   "id": "38e55fce-8b2a-4f25-8a57-8e4d0d65a877",
   "metadata": {},
   "outputs": [],
   "source": [
    "def read_row(row: int, month: str, df: pd.DataFrame):\n",
    "    \"\"\"\n",
    "    Fonction pour lire les données d'une ligne dans le tableau et\n",
    "    afficher les lignes pour l'écriture en comptabilité\n",
    "\n",
    "    Parameters\n",
    "    ----------\n",
    "    row : int\n",
    "        l'index de la ligne à lire dans le tableau\n",
    "    month : str\n",
    "        le mois en cours\n",
    "    df : pd.DataFrame\n",
    "        le tableau\n",
    "    \"\"\"\n",
    "\n",
    "    # Input values\n",
    "    name = df.iat[row, 0].split(\"\\n\")[0]\n",
    "    brut = float(df.iat[row, 2])\n",
    "    net = float(df.iat[row, 18])\n",
    "    pas = float(df.iat[row, 17])\n",
    "    urssafPO = float(df.iat[row, 6])\n",
    "    urssafPP = float(df.iat[row, 7])\n",
    "    chomagePP = float(df.iat[row, 9])\n",
    "    retraitePO = float(df.iat[row, 10])\n",
    "    retraitePP = float(df.iat[row, 11])\n",
    "    m = re.search(r\"L : (\\d+(\\.\\d+)?)\", df.iat[row, 12])\n",
    "    formationL = float(m.group(1))\n",
    "    prevoyancePO = float(df.iat[row, 13])\n",
    "    prevoyancePP = float(df.iat[row, 14])\n",
    "\n",
    "    # Debit values\n",
    "    charges = urssafPP + chomagePP + retraitePP + formationL + prevoyancePP\n",
    "\n",
    "    # Credit values\n",
    "    cotisations = urssafPO + urssafPP + chomagePP + formationL\n",
    "    retraites = retraitePO + retraitePP\n",
    "    prevoyances = prevoyancePO + prevoyancePP\n",
    "\n",
    "    # Print table\n",
    "    headers = (\"Libellé\", \"Compte\", \"Débit\", \"Crédit\")\n",
    "    values = []\n",
    "    values.append(\n",
    "        [\n",
    "            f\"Salaire brut {month} {name}\",\n",
    "            \"641000 - Rémunérations du personnel\",\n",
    "            \"{:.2f}\".format(brut),\n",
    "            \"\",\n",
    "        ]\n",
    "    )\n",
    "    values.append(\n",
    "        [\n",
    "            f\"Charges patronales {month} {name}\",\n",
    "            \"645100 - Cotisations à l'URSSAF\",\n",
    "            \"{:.2f}\".format(charges),\n",
    "            \"\",\n",
    "        ]\n",
    "    )\n",
    "    values.append(\n",
    "        [\n",
    "            f\"Salaire net {month} {name}\",\n",
    "            \"421000 - Personnel - Rémunérations dues\",\n",
    "            \"\",\n",
    "            \"{:.2f}\".format(net),\n",
    "        ]\n",
    "    )\n",
    "    values.append(\n",
    "        [\n",
    "            f\"Total cotisations URSSAF {month} {name}\",\n",
    "            \"431000 - Sécurité sociale\",\n",
    "            \"\",\n",
    "            \"{:.2f}\".format(cotisations),\n",
    "        ]\n",
    "    )\n",
    "    values.append(\n",
    "        [\n",
    "            f\"Charges ARRCO {month} {name}\",\n",
    "            \"437300 - Caisses de retraites et de prévoyance\",\n",
    "            \"\",\n",
    "            \"{:.2f}\".format(retraites),\n",
    "        ]\n",
    "    )\n",
    "    values.append(\n",
    "        [\n",
    "            f\"PAS {month} {name}\",\n",
    "            \"442100 - Prélèvements à la source (IR)\",\n",
    "            \"\",\n",
    "            \"{:.2f}\".format(pas),\n",
    "        ]\n",
    "    )\n",
    "    values.append(\n",
    "        [\n",
    "            f\"Prévoyance {month} {name}\",\n",
    "            \"437200 - Mutuelles\",\n",
    "            \"\",\n",
    "            \"{:.2f}\".format(prevoyances),\n",
    "        ]\n",
    "    )\n",
    "\n",
    "    values.append(\n",
    "        [\n",
    "            \"===== total\",\n",
    "            \"\",\n",
    "            \"{:.2f}\".format(brut + charges),\n",
    "            \"{:.2f}\".format(net + cotisations + retraites + pas + prevoyances),\n",
    "        ]\n",
    "    )\n",
    "    print(tabulate(values, headers=headers))\n"
   ]
  },
  {
   "cell_type": "markdown",
   "id": "dad4ac82-3636-4829-9b65-0643271ee8f4",
   "metadata": {},
   "source": [
    "### Calcul des lignes de comptabilité"
   ]
  },
  {
   "cell_type": "code",
   "execution_count": null,
   "id": "b2f8dee6-e892-4ae4-a7dd-8e6f421aa79e",
   "metadata": {},
   "outputs": [],
   "source": [
    "for filename in files:\n",
    "  df = read_table(filename)\n",
    "  month = read_month(filename)\n",
    "  for row in (2, 3):\n",
    "    read_row(row, month, df)\n",
    "    print()\n",
    "    print()"
   ]
  }
 ],
 "metadata": {
  "kernelspec": {
   "display_name": "Python 3 (ipykernel)",
   "language": "python",
   "name": "python3"
  },
  "language_info": {
   "codemirror_mode": {
    "name": "ipython",
    "version": 3
   },
   "file_extension": ".py",
   "mimetype": "text/x-python",
   "name": "python",
   "nbconvert_exporter": "python",
   "pygments_lexer": "ipython3",
   "version": "3.11.3"
  }
 },
 "nbformat": 4,
 "nbformat_minor": 5
}
